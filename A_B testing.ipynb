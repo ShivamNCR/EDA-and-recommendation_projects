{
 "cells": [
  {
   "cell_type": "code",
   "execution_count": 1,
   "id": "532efdfc-385c-4bf6-a875-840c945e6e97",
   "metadata": {},
   "outputs": [],
   "source": [
    "import pandas as pd\n",
    "import numpy as np"
   ]
  },
  {
   "cell_type": "code",
   "execution_count": 2,
   "id": "b1004442-4d11-4222-a737-bf214dd59922",
   "metadata": {},
   "outputs": [
    {
     "data": {
      "text/html": [
       "<div>\n",
       "<style scoped>\n",
       "    .dataframe tbody tr th:only-of-type {\n",
       "        vertical-align: middle;\n",
       "    }\n",
       "\n",
       "    .dataframe tbody tr th {\n",
       "        vertical-align: top;\n",
       "    }\n",
       "\n",
       "    .dataframe thead th {\n",
       "        text-align: right;\n",
       "    }\n",
       "</style>\n",
       "<table border=\"1\" class=\"dataframe\">\n",
       "  <thead>\n",
       "    <tr style=\"text-align: right;\">\n",
       "      <th></th>\n",
       "      <th>Campaign Name</th>\n",
       "      <th>Date</th>\n",
       "      <th>Spend [USD]</th>\n",
       "      <th># of Impressions</th>\n",
       "      <th>Reach</th>\n",
       "      <th># of Website Clicks</th>\n",
       "      <th># of Searches</th>\n",
       "      <th># of View Content</th>\n",
       "      <th># of Add to Cart</th>\n",
       "      <th># of Purchase</th>\n",
       "    </tr>\n",
       "  </thead>\n",
       "  <tbody>\n",
       "    <tr>\n",
       "      <th>0</th>\n",
       "      <td>Control Campaign</td>\n",
       "      <td>1.08.2019</td>\n",
       "      <td>2280</td>\n",
       "      <td>82702.0</td>\n",
       "      <td>56930.0</td>\n",
       "      <td>7016.0</td>\n",
       "      <td>2290.0</td>\n",
       "      <td>2159.0</td>\n",
       "      <td>1819.0</td>\n",
       "      <td>618.0</td>\n",
       "    </tr>\n",
       "    <tr>\n",
       "      <th>1</th>\n",
       "      <td>Control Campaign</td>\n",
       "      <td>2.08.2019</td>\n",
       "      <td>1757</td>\n",
       "      <td>121040.0</td>\n",
       "      <td>102513.0</td>\n",
       "      <td>8110.0</td>\n",
       "      <td>2033.0</td>\n",
       "      <td>1841.0</td>\n",
       "      <td>1219.0</td>\n",
       "      <td>511.0</td>\n",
       "    </tr>\n",
       "    <tr>\n",
       "      <th>2</th>\n",
       "      <td>Control Campaign</td>\n",
       "      <td>3.08.2019</td>\n",
       "      <td>2343</td>\n",
       "      <td>131711.0</td>\n",
       "      <td>110862.0</td>\n",
       "      <td>6508.0</td>\n",
       "      <td>1737.0</td>\n",
       "      <td>1549.0</td>\n",
       "      <td>1134.0</td>\n",
       "      <td>372.0</td>\n",
       "    </tr>\n",
       "    <tr>\n",
       "      <th>3</th>\n",
       "      <td>Control Campaign</td>\n",
       "      <td>4.08.2019</td>\n",
       "      <td>1940</td>\n",
       "      <td>72878.0</td>\n",
       "      <td>61235.0</td>\n",
       "      <td>3065.0</td>\n",
       "      <td>1042.0</td>\n",
       "      <td>982.0</td>\n",
       "      <td>1183.0</td>\n",
       "      <td>340.0</td>\n",
       "    </tr>\n",
       "    <tr>\n",
       "      <th>4</th>\n",
       "      <td>Control Campaign</td>\n",
       "      <td>5.08.2019</td>\n",
       "      <td>1835</td>\n",
       "      <td>NaN</td>\n",
       "      <td>NaN</td>\n",
       "      <td>NaN</td>\n",
       "      <td>NaN</td>\n",
       "      <td>NaN</td>\n",
       "      <td>NaN</td>\n",
       "      <td>NaN</td>\n",
       "    </tr>\n",
       "  </tbody>\n",
       "</table>\n",
       "</div>"
      ],
      "text/plain": [
       "      Campaign Name       Date  Spend [USD]  # of Impressions     Reach  \\\n",
       "0  Control Campaign  1.08.2019         2280           82702.0   56930.0   \n",
       "1  Control Campaign  2.08.2019         1757          121040.0  102513.0   \n",
       "2  Control Campaign  3.08.2019         2343          131711.0  110862.0   \n",
       "3  Control Campaign  4.08.2019         1940           72878.0   61235.0   \n",
       "4  Control Campaign  5.08.2019         1835               NaN       NaN   \n",
       "\n",
       "   # of Website Clicks  # of Searches  # of View Content  # of Add to Cart  \\\n",
       "0               7016.0         2290.0             2159.0            1819.0   \n",
       "1               8110.0         2033.0             1841.0            1219.0   \n",
       "2               6508.0         1737.0             1549.0            1134.0   \n",
       "3               3065.0         1042.0              982.0            1183.0   \n",
       "4                  NaN            NaN                NaN               NaN   \n",
       "\n",
       "   # of Purchase  \n",
       "0          618.0  \n",
       "1          511.0  \n",
       "2          372.0  \n",
       "3          340.0  \n",
       "4            NaN  "
      ]
     },
     "execution_count": 2,
     "metadata": {},
     "output_type": "execute_result"
    }
   ],
   "source": [
    "#df = pd.read_csv('control_group (1).csv')\n",
    "# Read the CSV file, specifying the separator as ';'\n",
    "abtest = pd.read_csv('control_group.csv', sep=';')\n",
    "\n",
    "# Display the first few rows of the DataFrame to verify the data\n",
    "abtest.head()"
   ]
  },
  {
   "cell_type": "code",
   "execution_count": 3,
   "id": "dc3f9dd5-b978-4c0d-a8af-211eeb2d30af",
   "metadata": {},
   "outputs": [],
   "source": [
    "# Define a dictionary mapping the old column names to the new column names\n",
    "new_column_names = {\n",
    "    'Campaign Name': 'campaign_name',\n",
    "    'Date': 'date',\n",
    "    'Spend [USD]': 'spend_usd',\n",
    "    '# of Impressions': 'impressions',\n",
    "    'Reach': 'reach',\n",
    "    '# of Website Clicks': 'website_clicks',\n",
    "    '# of Searches': 'searches',\n",
    "    '# of View Content': 'view_content',\n",
    "    '# of Add to Cart': 'add_to_cart',\n",
    "    '# of Purchase': 'purchase'\n",
    "}\n",
    "\n",
    "# Rename the columns using the dictionary\n",
    "abtest = abtest.rename(columns=new_column_names)"
   ]
  },
  {
   "cell_type": "code",
   "execution_count": 4,
   "id": "f0dfc472-83bf-40e1-b799-b277d16f22d8",
   "metadata": {},
   "outputs": [
    {
     "data": {
      "text/html": [
       "<div>\n",
       "<style scoped>\n",
       "    .dataframe tbody tr th:only-of-type {\n",
       "        vertical-align: middle;\n",
       "    }\n",
       "\n",
       "    .dataframe tbody tr th {\n",
       "        vertical-align: top;\n",
       "    }\n",
       "\n",
       "    .dataframe thead th {\n",
       "        text-align: right;\n",
       "    }\n",
       "</style>\n",
       "<table border=\"1\" class=\"dataframe\">\n",
       "  <thead>\n",
       "    <tr style=\"text-align: right;\">\n",
       "      <th></th>\n",
       "      <th>campaign_name</th>\n",
       "      <th>date</th>\n",
       "      <th>spend_usd</th>\n",
       "      <th>impressions</th>\n",
       "      <th>reach</th>\n",
       "      <th>website_clicks</th>\n",
       "      <th>searches</th>\n",
       "      <th>view_content</th>\n",
       "      <th>add_to_cart</th>\n",
       "      <th>purchase</th>\n",
       "    </tr>\n",
       "  </thead>\n",
       "  <tbody>\n",
       "    <tr>\n",
       "      <th>0</th>\n",
       "      <td>Control Campaign</td>\n",
       "      <td>1.08.2019</td>\n",
       "      <td>2280</td>\n",
       "      <td>82702.0</td>\n",
       "      <td>56930.0</td>\n",
       "      <td>7016.0</td>\n",
       "      <td>2290.0</td>\n",
       "      <td>2159.0</td>\n",
       "      <td>1819.0</td>\n",
       "      <td>618.0</td>\n",
       "    </tr>\n",
       "    <tr>\n",
       "      <th>1</th>\n",
       "      <td>Control Campaign</td>\n",
       "      <td>2.08.2019</td>\n",
       "      <td>1757</td>\n",
       "      <td>121040.0</td>\n",
       "      <td>102513.0</td>\n",
       "      <td>8110.0</td>\n",
       "      <td>2033.0</td>\n",
       "      <td>1841.0</td>\n",
       "      <td>1219.0</td>\n",
       "      <td>511.0</td>\n",
       "    </tr>\n",
       "    <tr>\n",
       "      <th>2</th>\n",
       "      <td>Control Campaign</td>\n",
       "      <td>3.08.2019</td>\n",
       "      <td>2343</td>\n",
       "      <td>131711.0</td>\n",
       "      <td>110862.0</td>\n",
       "      <td>6508.0</td>\n",
       "      <td>1737.0</td>\n",
       "      <td>1549.0</td>\n",
       "      <td>1134.0</td>\n",
       "      <td>372.0</td>\n",
       "    </tr>\n",
       "    <tr>\n",
       "      <th>3</th>\n",
       "      <td>Control Campaign</td>\n",
       "      <td>4.08.2019</td>\n",
       "      <td>1940</td>\n",
       "      <td>72878.0</td>\n",
       "      <td>61235.0</td>\n",
       "      <td>3065.0</td>\n",
       "      <td>1042.0</td>\n",
       "      <td>982.0</td>\n",
       "      <td>1183.0</td>\n",
       "      <td>340.0</td>\n",
       "    </tr>\n",
       "    <tr>\n",
       "      <th>4</th>\n",
       "      <td>Control Campaign</td>\n",
       "      <td>5.08.2019</td>\n",
       "      <td>1835</td>\n",
       "      <td>NaN</td>\n",
       "      <td>NaN</td>\n",
       "      <td>NaN</td>\n",
       "      <td>NaN</td>\n",
       "      <td>NaN</td>\n",
       "      <td>NaN</td>\n",
       "      <td>NaN</td>\n",
       "    </tr>\n",
       "  </tbody>\n",
       "</table>\n",
       "</div>"
      ],
      "text/plain": [
       "      campaign_name       date  spend_usd  impressions     reach  \\\n",
       "0  Control Campaign  1.08.2019       2280      82702.0   56930.0   \n",
       "1  Control Campaign  2.08.2019       1757     121040.0  102513.0   \n",
       "2  Control Campaign  3.08.2019       2343     131711.0  110862.0   \n",
       "3  Control Campaign  4.08.2019       1940      72878.0   61235.0   \n",
       "4  Control Campaign  5.08.2019       1835          NaN       NaN   \n",
       "\n",
       "   website_clicks  searches  view_content  add_to_cart  purchase  \n",
       "0          7016.0    2290.0        2159.0       1819.0     618.0  \n",
       "1          8110.0    2033.0        1841.0       1219.0     511.0  \n",
       "2          6508.0    1737.0        1549.0       1134.0     372.0  \n",
       "3          3065.0    1042.0         982.0       1183.0     340.0  \n",
       "4             NaN       NaN           NaN          NaN       NaN  "
      ]
     },
     "execution_count": 4,
     "metadata": {},
     "output_type": "execute_result"
    }
   ],
   "source": [
    "abtest.head()"
   ]
  },
  {
   "cell_type": "code",
   "execution_count": 5,
   "id": "712cae26-7792-4447-819f-3b1d6a410215",
   "metadata": {},
   "outputs": [
    {
     "data": {
      "text/plain": [
       "campaign_name      1\n",
       "date              30\n",
       "spend_usd         30\n",
       "impressions       29\n",
       "reach             29\n",
       "website_clicks    29\n",
       "searches          29\n",
       "view_content      26\n",
       "add_to_cart       29\n",
       "purchase          28\n",
       "dtype: int64"
      ]
     },
     "execution_count": 5,
     "metadata": {},
     "output_type": "execute_result"
    }
   ],
   "source": [
    "abtest.nunique()"
   ]
  },
  {
   "cell_type": "code",
   "execution_count": 6,
   "id": "4a6b87b2-2c5f-4886-bfac-4e48497c6e14",
   "metadata": {},
   "outputs": [
    {
     "data": {
      "text/html": [
       "<div>\n",
       "<style scoped>\n",
       "    .dataframe tbody tr th:only-of-type {\n",
       "        vertical-align: middle;\n",
       "    }\n",
       "\n",
       "    .dataframe tbody tr th {\n",
       "        vertical-align: top;\n",
       "    }\n",
       "\n",
       "    .dataframe thead th {\n",
       "        text-align: right;\n",
       "    }\n",
       "</style>\n",
       "<table border=\"1\" class=\"dataframe\">\n",
       "  <thead>\n",
       "    <tr style=\"text-align: right;\">\n",
       "      <th></th>\n",
       "      <th>campaign_name</th>\n",
       "      <th>date</th>\n",
       "      <th>spend_usd</th>\n",
       "      <th>impressions</th>\n",
       "      <th>reach</th>\n",
       "      <th>website_clicks</th>\n",
       "      <th>searches</th>\n",
       "      <th>view_content</th>\n",
       "      <th>add_to_cart</th>\n",
       "      <th>purchase</th>\n",
       "      <th>Device Type</th>\n",
       "    </tr>\n",
       "  </thead>\n",
       "  <tbody>\n",
       "    <tr>\n",
       "      <th>0</th>\n",
       "      <td>Control Campaign</td>\n",
       "      <td>1.08.2019</td>\n",
       "      <td>2280</td>\n",
       "      <td>82702.0</td>\n",
       "      <td>56930.0</td>\n",
       "      <td>7016.0</td>\n",
       "      <td>2290.0</td>\n",
       "      <td>2159.0</td>\n",
       "      <td>1819.0</td>\n",
       "      <td>618.0</td>\n",
       "      <td>Tablet</td>\n",
       "    </tr>\n",
       "    <tr>\n",
       "      <th>1</th>\n",
       "      <td>Control Campaign</td>\n",
       "      <td>2.08.2019</td>\n",
       "      <td>1757</td>\n",
       "      <td>121040.0</td>\n",
       "      <td>102513.0</td>\n",
       "      <td>8110.0</td>\n",
       "      <td>2033.0</td>\n",
       "      <td>1841.0</td>\n",
       "      <td>1219.0</td>\n",
       "      <td>511.0</td>\n",
       "      <td>Tablet</td>\n",
       "    </tr>\n",
       "    <tr>\n",
       "      <th>2</th>\n",
       "      <td>Control Campaign</td>\n",
       "      <td>3.08.2019</td>\n",
       "      <td>2343</td>\n",
       "      <td>131711.0</td>\n",
       "      <td>110862.0</td>\n",
       "      <td>6508.0</td>\n",
       "      <td>1737.0</td>\n",
       "      <td>1549.0</td>\n",
       "      <td>1134.0</td>\n",
       "      <td>372.0</td>\n",
       "      <td>Mobile</td>\n",
       "    </tr>\n",
       "    <tr>\n",
       "      <th>3</th>\n",
       "      <td>Control Campaign</td>\n",
       "      <td>4.08.2019</td>\n",
       "      <td>1940</td>\n",
       "      <td>72878.0</td>\n",
       "      <td>61235.0</td>\n",
       "      <td>3065.0</td>\n",
       "      <td>1042.0</td>\n",
       "      <td>982.0</td>\n",
       "      <td>1183.0</td>\n",
       "      <td>340.0</td>\n",
       "      <td>Mobile</td>\n",
       "    </tr>\n",
       "    <tr>\n",
       "      <th>4</th>\n",
       "      <td>Control Campaign</td>\n",
       "      <td>5.08.2019</td>\n",
       "      <td>1835</td>\n",
       "      <td>NaN</td>\n",
       "      <td>NaN</td>\n",
       "      <td>NaN</td>\n",
       "      <td>NaN</td>\n",
       "      <td>NaN</td>\n",
       "      <td>NaN</td>\n",
       "      <td>NaN</td>\n",
       "      <td>Mobile</td>\n",
       "    </tr>\n",
       "  </tbody>\n",
       "</table>\n",
       "</div>"
      ],
      "text/plain": [
       "      campaign_name       date  spend_usd  impressions     reach  \\\n",
       "0  Control Campaign  1.08.2019       2280      82702.0   56930.0   \n",
       "1  Control Campaign  2.08.2019       1757     121040.0  102513.0   \n",
       "2  Control Campaign  3.08.2019       2343     131711.0  110862.0   \n",
       "3  Control Campaign  4.08.2019       1940      72878.0   61235.0   \n",
       "4  Control Campaign  5.08.2019       1835          NaN       NaN   \n",
       "\n",
       "   website_clicks  searches  view_content  add_to_cart  purchase Device Type  \n",
       "0          7016.0    2290.0        2159.0       1819.0     618.0      Tablet  \n",
       "1          8110.0    2033.0        1841.0       1219.0     511.0      Tablet  \n",
       "2          6508.0    1737.0        1549.0       1134.0     372.0      Mobile  \n",
       "3          3065.0    1042.0         982.0       1183.0     340.0      Mobile  \n",
       "4             NaN       NaN           NaN          NaN       NaN      Mobile  "
      ]
     },
     "execution_count": 6,
     "metadata": {},
     "output_type": "execute_result"
    }
   ],
   "source": [
    "\n",
    "# Define the list of device types\n",
    "device_types = ['Desktop', 'Mobile', 'Tablet']\n",
    "\n",
    "# Generate random device types for each row in the DataFrame\n",
    "random_device_types = np.random.choice(device_types, size=len(abtest))\n",
    "\n",
    "# Assign the randomly generated device types to a new column in the DataFrame\n",
    "abtest['Device Type'] = random_device_types\n",
    "\n",
    "# Display the DataFrame with the randomly assigned device types\n",
    "abtest.head()"
   ]
  },
  {
   "cell_type": "code",
   "execution_count": 7,
   "id": "f5f6a25c-6ca8-41ea-88f2-2a8b141ae39f",
   "metadata": {},
   "outputs": [
    {
     "name": "stdout",
     "output_type": "stream",
     "text": [
      "<class 'pandas.core.frame.DataFrame'>\n",
      "RangeIndex: 30 entries, 0 to 29\n",
      "Data columns (total 11 columns):\n",
      " #   Column          Non-Null Count  Dtype  \n",
      "---  ------          --------------  -----  \n",
      " 0   campaign_name   30 non-null     object \n",
      " 1   date            30 non-null     object \n",
      " 2   spend_usd       30 non-null     int64  \n",
      " 3   impressions     29 non-null     float64\n",
      " 4   reach           29 non-null     float64\n",
      " 5   website_clicks  29 non-null     float64\n",
      " 6   searches        29 non-null     float64\n",
      " 7   view_content    29 non-null     float64\n",
      " 8   add_to_cart     29 non-null     float64\n",
      " 9   purchase        29 non-null     float64\n",
      " 10  Device Type     30 non-null     object \n",
      "dtypes: float64(7), int64(1), object(3)\n",
      "memory usage: 2.7+ KB\n"
     ]
    }
   ],
   "source": [
    "abtest.info()"
   ]
  },
  {
   "cell_type": "code",
   "execution_count": 10,
   "id": "a1275f86-0406-4eed-b1e4-eb10f5991f45",
   "metadata": {},
   "outputs": [],
   "source": [
    "abtest['date'] = pd.to_datetime(abtest['date'], format='%d.%m.%Y')"
   ]
  },
  {
   "cell_type": "code",
   "execution_count": 12,
   "id": "6677c758-7274-4fff-9e76-0422b46c2bb0",
   "metadata": {},
   "outputs": [
    {
     "data": {
      "text/plain": [
       "dtype('<M8[ns]')"
      ]
     },
     "execution_count": 12,
     "metadata": {},
     "output_type": "execute_result"
    }
   ],
   "source": [
    "abtest['date'].dtype"
   ]
  },
  {
   "cell_type": "code",
   "execution_count": 13,
   "id": "7ac2959a-a5d3-45f5-a9e7-ac935973ed53",
   "metadata": {},
   "outputs": [
    {
     "name": "stdout",
     "output_type": "stream",
     "text": [
      "\n",
      "Missing Values:\n",
      "campaign_name     0\n",
      "date              0\n",
      "spend_usd         0\n",
      "impressions       1\n",
      "reach             1\n",
      "website_clicks    1\n",
      "searches          1\n",
      "view_content      1\n",
      "add_to_cart       1\n",
      "purchase          1\n",
      "Device Type       0\n",
      "dtype: int64\n"
     ]
    }
   ],
   "source": [
    "# Identify missing/blank values\n",
    "missing_values = abtest.isnull().sum()\n",
    "print(\"\\nMissing Values:\")\n",
    "print(missing_values)\n"
   ]
  },
  {
   "cell_type": "code",
   "execution_count": 14,
   "id": "fa556579-dd42-4b67-b9dc-7364e80df719",
   "metadata": {},
   "outputs": [],
   "source": [
    "abtest[\"impressions\"].fillna(value=abtest[\"impressions\"].mean(), inplace=True)\n",
    "\n",
    "abtest[\"reach\"].fillna(value=abtest[\"reach\"].mean(), inplace=True)\n",
    "\n",
    "\n",
    "abtest[\"website_clicks\"].fillna(value=abtest[\"website_clicks\"].mean(), inplace=True)\n",
    "\n",
    "abtest[\"searches\"].fillna(value=abtest[\"searches\"].mean(), inplace=True)\n",
    "\n",
    "abtest[\"view_content\"].fillna(value=abtest[\"view_content\"].mean(), inplace=True)\n",
    "\n",
    "abtest[\"add_to_cart\"].fillna(value=abtest[\"add_to_cart\"].mean(), inplace=True)\n",
    "\n",
    "abtest[\"purchase\"].fillna(value=abtest[\"purchase\"].mean(), inplace=True)"
   ]
  },
  {
   "cell_type": "code",
   "execution_count": 15,
   "id": "3362f2fa-866c-43bf-8f28-5cc22e6ce935",
   "metadata": {},
   "outputs": [
    {
     "name": "stdout",
     "output_type": "stream",
     "text": [
      "\n",
      "Missing Values:\n",
      "campaign_name     0\n",
      "date              0\n",
      "spend_usd         0\n",
      "impressions       0\n",
      "reach             0\n",
      "website_clicks    0\n",
      "searches          0\n",
      "view_content      0\n",
      "add_to_cart       0\n",
      "purchase          0\n",
      "Device Type       0\n",
      "dtype: int64\n"
     ]
    }
   ],
   "source": [
    "# Identify missing/blank values\n",
    "missing_values = abtest.isnull().sum()\n",
    "print(\"\\nMissing Values:\")\n",
    "print(missing_values)\n"
   ]
  },
  {
   "cell_type": "code",
   "execution_count": 16,
   "id": "77d19dac-8fec-4640-ad80-8f85bded0d4a",
   "metadata": {},
   "outputs": [],
   "source": [
    "import matplotlib.pyplot as plt"
   ]
  },
  {
   "cell_type": "code",
   "execution_count": 17,
   "id": "1aadf07e-9f89-49da-9bf8-46c35866b3e7",
   "metadata": {},
   "outputs": [
    {
     "data": {
      "image/png": "[encoded data removed]",
      "text/plain": [
       "<Figure size 800x400 with 1 Axes>"
      ]
     },
     "metadata": {},
     "output_type": "display_data"
    }
   ],
   "source": [
    "\n",
    "# Group the data by 'Date' and 'Device Type', and calculate total number of clicks for each group\n",
    "clicks_by_device = abtest.groupby(['date', 'Device Type'])['website_clicks'].sum().unstack()\n",
    "\n",
    "# Plot the time series for each device type\n",
    "clicks_by_device.plot(figsize=(8, 4))\n",
    "\n",
    "# Add labels and title\n",
    "plt.title('Total Number of Clicks by Device Type Over Time')\n",
    "plt.xlabel('date')\n",
    "plt.ylabel('website_clicks')\n",
    "\n",
    "# Add legend\n",
    "plt.legend(title='Device Type', loc='upper left')\n",
    "\n",
    "# Show plot\n",
    "plt.show()\n"
   ]
  },
  {
   "cell_type": "code",
   "execution_count": 18,
   "id": "8b056f82-1e4d-4019-aa2e-b6b674c8fd9f",
   "metadata": {},
   "outputs": [
    {
     "data": {
      "image/png": "[encoded data removed]",
      "text/plain": [
       "<Figure size 1000x600 with 1 Axes>"
      ]
     },
     "metadata": {},
     "output_type": "display_data"
    }
   ],
   "source": [
    "\n",
    "# Group the data by 'Date' and 'Device Type', and calculate total number of clicks for each group\n",
    "clicks_by_device = abtest.groupby(['date', 'Device Type'])['website_clicks'].sum().unstack()\n",
    "\n",
    "# Plot the bar graph for each device type\n",
    "clicks_by_device.plot(kind='bar', figsize=(10, 6))\n",
    "\n",
    "# Add labels and title\n",
    "plt.title('Total Number of Clicks by Device Type Over Time')\n",
    "plt.xlabel('Date')\n",
    "plt.ylabel('Total Number of Clicks')\n",
    "\n",
    "# Add legend\n",
    "plt.legend(title='Device Type')\n",
    "\n",
    "# Show plot\n",
    "plt.show()\n"
   ]
  },
  {
   "cell_type": "code",
   "execution_count": 19,
   "id": "5cb7ade2-0b43-49b2-80f5-a7867d4912a6",
   "metadata": {},
   "outputs": [
    {
     "name": "stdout",
     "output_type": "stream",
     "text": [
      "Required sample size per group: 34884\n"
     ]
    }
   ],
   "source": [
    "import scipy.stats as stats\n",
    "\n",
    "# Given parameters\n",
    "MDE = 0.03  # 3% minimum detectable effect\n",
    "alpha = 0.05  # 95% confidence level\n",
    "power = 0.80  # 80% power\n",
    "sigma = 1  # estimated standard deviation of the metric\n",
    "\n",
    "# Z-scores for the given alpha and power\n",
    "Z_alpha = stats.norm.ppf(1 - alpha/2)\n",
    "Z_beta = stats.norm.ppf(power)\n",
    "\n",
    "# Calculate sample size\n",
    "n = ((2 * (Z_alpha + Z_beta) * sigma) / MDE)**2\n",
    "\n",
    "print(\"Required sample size per group:\", round(n))\n"
   ]
  },
  {
   "cell_type": "markdown",
   "id": "62e83a6d-9f24-48d7-9b00-697fd2e2a10f",
   "metadata": {},
   "source": [
    "#  our current sample size is lesser than this value, we can conclude that we have not sufficient sample size to conduct the test. message indicating that more data is needed to achieve the desired level of confidence and power.\n",
    "\n",
    "\n",
    "\n",
    "\n",
    "\n",
    "\n"
   ]
  },
  {
   "cell_type": "code",
   "execution_count": 20,
   "id": "d5d009a6-3f98-4b25-9b42-fd1efc71fa24",
   "metadata": {},
   "outputs": [
    {
     "name": "stdout",
     "output_type": "stream",
     "text": [
      "Result of A/B test: Experiment Group is Better\n"
     ]
    }
   ],
   "source": [
    "import scipy.stats as stats\n",
    "\n",
    "def perform_ab_test(control_visitors, control_conversions, treatment_visitors, treatment_conversions, confidence_level=95):\n",
    "    # Calculate conversion rates\n",
    "    control_conversion_rate = control_conversions / control_visitors\n",
    "    treatment_conversion_rate = treatment_conversions / treatment_visitors\n",
    "    \n",
    "    # Calculate pooled probability and pooled standard error\n",
    "    pooled_probability = (control_conversions + treatment_conversions) / (control_visitors + treatment_visitors)\n",
    "    pooled_se = (pooled_probability * (1 - pooled_probability) * (1/control_visitors + 1/treatment_visitors)) ** 0.5\n",
    "    \n",
    "    # Calculate z-score\n",
    "    z_score = (treatment_conversion_rate - control_conversion_rate) / pooled_se\n",
    "    \n",
    "    # Determine critical z-value based on confidence level\n",
    "    if confidence_level == 90:\n",
    "        critical_z = 1.645  # 90% confidence level\n",
    "    elif confidence_level == 95:\n",
    "        critical_z = 1.96  # 95% confidence level\n",
    "    elif confidence_level == 99:\n",
    "        critical_z = 2.576  # 99% confidence level\n",
    "    else:\n",
    "        raise ValueError(\"Invalid confidence level. Please choose from 90, 95, or 99.\")\n",
    "    \n",
    "    # Compare z-score to critical z-value and return result\n",
    "    if z_score > critical_z:\n",
    "        return \"Experiment Group is Better\"\n",
    "    elif z_score < -critical_z:\n",
    "        return \"Control Group is Better\"\n",
    "    else:\n",
    "        return \"Indeterminate\"\n",
    "\n",
    "# let's take the example according to the comparable size of abtest dataset:\n",
    "control_visitors = 28\n",
    "control_conversions = 8\n",
    "treatment_visitors = 30\n",
    "treatment_conversions = 18\n",
    "confidence_level = 95\n",
    "\n",
    "result = perform_ab_test(control_visitors, control_conversions, treatment_visitors, treatment_conversions, confidence_level)\n",
    "print(\"Result of A/B test:\", result)\n"
   ]
  },
  {
   "cell_type": "code",
   "execution_count": null,
   "id": "87a37568-9154-45e0-90e2-6f13e4d10148",
   "metadata": {},
   "outputs": [],
   "source": []
  }
 ],
 "metadata": {
  "kernelspec": {
   "display_name": "Python 3 (ipykernel)",
   "language": "python",
   "name": "python3"
  },
  "language_info": {
   "codemirror_mode": {
    "name": "ipython",
    "version": 3
   },
   "file_extension": ".py",
   "mimetype": "text/x-python",
   "name": "python",
   "nbconvert_exporter": "python",
   "pygments_lexer": "ipython3",
   "version": "3.11.7"
  }
 },
 "nbformat": 4,
 "nbformat_minor": 5
}
